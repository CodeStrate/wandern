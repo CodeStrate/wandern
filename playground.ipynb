{
 "cells": [
  {
   "cell_type": "markdown",
   "metadata": {},
   "source": []
  },
  {
   "cell_type": "code",
   "execution_count": 4,
   "metadata": {},
   "outputs": [
    {
     "name": "stdout",
     "output_type": "stream",
     "text": [
      "Collecting psycopg[binary]\n",
      "  Downloading psycopg-3.2.9-py3-none-any.whl.metadata (4.5 kB)\n",
      "Requirement already satisfied: typing-extensions>=4.6 in /Users/shiladitya/.pyenv/versions/3.11.13/lib/python3.11/site-packages (from psycopg[binary]) (4.14.1)\n",
      "Collecting psycopg-binary==3.2.9 (from psycopg[binary])\n",
      "  Downloading psycopg_binary-3.2.9-cp311-cp311-macosx_11_0_arm64.whl.metadata (2.9 kB)\n",
      "Downloading psycopg_binary-3.2.9-cp311-cp311-macosx_11_0_arm64.whl (4.1 MB)\n",
      "\u001b[2K   \u001b[90m━━━━━━━━━━━━━━━━━━━━━━━━━━━━━━━━━━━━━━━━\u001b[0m \u001b[32m4.1/4.1 MB\u001b[0m \u001b[31m3.4 MB/s\u001b[0m eta \u001b[36m0:00:00\u001b[0m00:01\u001b[0m00:01\u001b[0m\n",
      "\u001b[?25hDownloading psycopg-3.2.9-py3-none-any.whl (202 kB)\n",
      "\u001b[2K   \u001b[90m━━━━━━━━━━━━━━━━━━━━━━━━━━━━━━━━━━━━━━━━\u001b[0m \u001b[32m202.7/202.7 kB\u001b[0m \u001b[31m1.6 MB/s\u001b[0m eta \u001b[36m0:00:00\u001b[0ma \u001b[36m0:00:01\u001b[0m\n",
      "\u001b[?25hInstalling collected packages: psycopg-binary, psycopg\n",
      "Successfully installed psycopg-3.2.9 psycopg-binary-3.2.9\n",
      "\n",
      "\u001b[1m[\u001b[0m\u001b[34;49mnotice\u001b[0m\u001b[1;39;49m]\u001b[0m\u001b[39;49m A new release of pip is available: \u001b[0m\u001b[31;49m24.0\u001b[0m\u001b[39;49m -> \u001b[0m\u001b[32;49m25.2\u001b[0m\n",
      "\u001b[1m[\u001b[0m\u001b[34;49mnotice\u001b[0m\u001b[1;39;49m]\u001b[0m\u001b[39;49m To update, run: \u001b[0m\u001b[32;49mpip install --upgrade pip\u001b[0m\n"
     ]
    }
   ],
   "source": [
    "!pip install \"psycopg[binary]\""
   ]
  },
  {
   "cell_type": "code",
   "execution_count": 1,
   "metadata": {},
   "outputs": [],
   "source": [
    "from wandern.graph_builder import MigrationGraph"
   ]
  },
  {
   "cell_type": "code",
   "execution_count": 2,
   "metadata": {},
   "outputs": [],
   "source": [
    "m = MigrationGraph.build(\"tests/migrations\")\n"
   ]
  },
  {
   "cell_type": "code",
   "execution_count": 3,
   "metadata": {},
   "outputs": [
    {
     "ename": "CycleDetected",
     "evalue": "0003 -> 0004\n0004 -> 0005\n0005 -> 0003",
     "output_type": "error",
     "traceback": [
      "\u001b[31m---------------------------------------------------------------------------\u001b[39m",
      "\u001b[31mCycleDetected\u001b[39m                             Traceback (most recent call last)",
      "\u001b[36mCell\u001b[39m\u001b[36m \u001b[39m\u001b[32mIn[3]\u001b[39m\u001b[32m, line 1\u001b[39m\n\u001b[32m----> \u001b[39m\u001b[32m1\u001b[39m node = \u001b[43mm\u001b[49m\u001b[43m.\u001b[49m\u001b[43mget_last_migration\u001b[49m\u001b[43m(\u001b[49m\u001b[43m)\u001b[49m\n\u001b[32m      2\u001b[39m node\n",
      "\u001b[36mFile \u001b[39m\u001b[32m~/Projects/wandern/wandern/graph_builder.py:77\u001b[39m, in \u001b[36mMigrationGraph.get_last_migration\u001b[39m\u001b[34m(self)\u001b[39m\n\u001b[32m     72\u001b[39m \u001b[38;5;28;01mif\u001b[39;00m cycle := \u001b[38;5;28mself\u001b[39m.get_cycles():\n\u001b[32m     74\u001b[39m     cycle_str = \u001b[33m\"\u001b[39m\u001b[38;5;130;01m\\n\u001b[39;00m\u001b[33m\"\u001b[39m.join(\n\u001b[32m     75\u001b[39m         [\u001b[33mf\u001b[39m\u001b[33m\"\u001b[39m\u001b[38;5;132;01m{\u001b[39;00mc[\u001b[32m0\u001b[39m]\u001b[38;5;132;01m}\u001b[39;00m\u001b[33m \u001b[39m\u001b[38;5;132;01m{\u001b[39;00m\u001b[33m'\u001b[39m\u001b[33m->\u001b[39m\u001b[33m'\u001b[39m\u001b[38;5;250m \u001b[39m\u001b[38;5;28;01mif\u001b[39;00m\u001b[38;5;250m \u001b[39mc[\u001b[32m2\u001b[39m]\u001b[38;5;250m \u001b[39m==\u001b[38;5;250m \u001b[39m\u001b[33m'\u001b[39m\u001b[33mforward\u001b[39m\u001b[33m'\u001b[39m\u001b[38;5;250m \u001b[39m\u001b[38;5;28;01melse\u001b[39;00m\u001b[38;5;250m \u001b[39m\u001b[33m'\u001b[39m\u001b[33m<-\u001b[39m\u001b[33m'\u001b[39m\u001b[38;5;132;01m}\u001b[39;00m\u001b[33m \u001b[39m\u001b[38;5;132;01m{\u001b[39;00mc[\u001b[32m1\u001b[39m]\u001b[38;5;132;01m}\u001b[39;00m\u001b[33m\"\u001b[39m \u001b[38;5;28;01mfor\u001b[39;00m c \u001b[38;5;129;01min\u001b[39;00m cycle]\n\u001b[32m     76\u001b[39m     )\n\u001b[32m---> \u001b[39m\u001b[32m77\u001b[39m     \u001b[38;5;28;01mraise\u001b[39;00m CycleDetected(cycle_str)\n\u001b[32m     79\u001b[39m leaf_node = \u001b[38;5;28;01mNone\u001b[39;00m\n\u001b[32m     80\u001b[39m \u001b[38;5;28;01mif\u001b[39;00m \u001b[38;5;129;01mnot\u001b[39;00m \u001b[38;5;28mself\u001b[39m._graph:\n",
      "\u001b[31mCycleDetected\u001b[39m: 0003 -> 0004\n0004 -> 0005\n0005 -> 0003"
     ]
    }
   ],
   "source": [
    "\n",
    "node = m.get_last_migration()\n",
    "node"
   ]
  },
  {
   "cell_type": "code",
   "execution_count": 2,
   "metadata": {},
   "outputs": [
    {
     "name": "stdout",
     "output_type": "stream",
     "text": [
      "section='/*\\nAutogenerated by Wandern, please add your migration SQL here.\\n\\nTimestamp: 2024-11-19 00:55:16\\n\\nRevision ID: 0001\\nRevises: None\\nMessage: create table\\nTags: Foo, Bar\\nAuthor: s-bose\\n*/\\n\\n'\n",
      "section='UP'\n",
      "section='\\nCREATE TABLE users;\\n'\n",
      "section='DOWN'\n",
      "section='\\nDROP TABLE users;\\n'\n"
     ]
    }
   ],
   "source": [
    "from wandern.file import parse_sql_file\n",
    "\n",
    "\n",
    "parse_sql_file(\"tests/migrations/0001_create_table.sql\")"
   ]
  },
  {
   "cell_type": "code",
   "execution_count": null,
   "metadata": {},
   "outputs": [
    {
     "data": {
      "text/plain": [
       "SQL('CREATE TABL')"
      ]
     },
     "execution_count": 9,
     "metadata": {},
     "output_type": "execute_result"
    }
   ],
   "source": [
    "from psycopg.sql import SQL\n",
    "\n",
    "sql = SQL(\"CREATE TABL\")\n"
   ]
  }
 ],
 "metadata": {
  "kernelspec": {
   "display_name": "3.11.13",
   "language": "python",
   "name": "python3"
  },
  "language_info": {
   "codemirror_mode": {
    "name": "ipython",
    "version": 3
   },
   "file_extension": ".py",
   "mimetype": "text/x-python",
   "name": "python",
   "nbconvert_exporter": "python",
   "pygments_lexer": "ipython3",
   "version": "3.11.13"
  }
 },
 "nbformat": 4,
 "nbformat_minor": 2
}
