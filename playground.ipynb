{
 "cells": [
  {
   "cell_type": "code",
   "execution_count": 1,
   "metadata": {},
   "outputs": [],
   "source": [
    "import asyncpg\n",
    "\n",
    "\n",
    "conn = await asyncpg.connect(\n",
    "    \n",
    "    host=\"localhost\",\n",
    "    port=\"5433\",\n",
    "    user=\"postgres\",\n",
    "    password=\"postgres\",\n",
    "    database=\"postgres\",\n",
    ")"
   ]
  },
  {
   "cell_type": "code",
   "execution_count": null,
   "metadata": {},
   "outputs": [
    {
     "name": "stdout",
     "output_type": "stream",
     "text": [
      "None\n"
     ]
    }
   ],
   "source": [
    "resp = await conn.fetchval(\"\"\"CREATE TABLE IF NOT EXISTS \"public\".{MIGRATION_DEFAULT_TABLE_NAME} (\n",
    "                id varchar PRIMARY KEY NOT NULL,\n",
    "                down_revision varchar NULL\n",
    "            )\n",
    "        \"\"\")\n",
    "\n",
    "print(resp)"
   ]
  },
  {
   "cell_type": "code",
   "execution_count": null,
   "metadata": {},
   "outputs": [],
   "source": []
  }
 ],
 "metadata": {
  "kernelspec": {
   "display_name": ".venv",
   "language": "python",
   "name": "python3"
  },
  "language_info": {
   "codemirror_mode": {
    "name": "ipython",
    "version": 3
   },
   "file_extension": ".py",
   "mimetype": "text/x-python",
   "name": "python",
   "nbconvert_exporter": "python",
   "pygments_lexer": "ipython3",
   "version": "3.11.9"
  }
 },
 "nbformat": 4,
 "nbformat_minor": 2
}
