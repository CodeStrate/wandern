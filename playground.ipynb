{
 "cells": [
  {
   "cell_type": "code",
   "execution_count": 1,
   "id": "8cde58e2",
   "metadata": {},
   "outputs": [],
   "source": [
    "from wandern.utils import parse_sql_file_content"
   ]
  },
  {
   "cell_type": "code",
   "execution_count": 2,
   "id": "768dfe54",
   "metadata": {},
   "outputs": [
    {
     "data": {
      "text/plain": [
       "Revision(revision_id='723f6efb', down_revision_id=None, message='1st commit', tags=['initial', ' uuid'], author='s-bose', up_sql='CREATE EXTENSION IF NOT EXISTS \"uuid-ossp\";', down_sql='DROP EXTENSION IF EXISTS \"uuid-ossp\";', created_at=datetime.datetime(2025, 8, 20, 19, 34, 51, 282620))"
      ]
     },
     "execution_count": 2,
     "metadata": {},
     "output_type": "execute_result"
    }
   ],
   "source": [
    "parse_sql_file_content(\"./wd_migrations/723f6efb_oZfzVwBRYk_1st_commit.sql\")"
   ]
  },
  {
   "cell_type": "markdown",
   "id": "a667f681",
   "metadata": {},
   "source": []
  }
 ],
 "metadata": {
  "kernelspec": {
   "display_name": "wandern",
   "language": "python",
   "name": "python3"
  },
  "language_info": {
   "codemirror_mode": {
    "name": "ipython",
    "version": 3
   },
   "file_extension": ".py",
   "mimetype": "text/x-python",
   "name": "python",
   "nbconvert_exporter": "python",
   "pygments_lexer": "ipython3",
   "version": "3.13.5"
  }
 },
 "nbformat": 4,
 "nbformat_minor": 5
}
